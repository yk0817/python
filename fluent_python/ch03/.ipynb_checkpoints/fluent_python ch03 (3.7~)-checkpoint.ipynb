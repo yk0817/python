{
 "cells": [
  {
   "cell_type": "markdown",
   "metadata": {},
   "source": [
    "# fluen python ch03 後半部分"
   ]
  },
  {
   "cell_type": "markdown",
   "metadata": {},
   "source": [
    "## 3.7 不変マップ"
   ]
  },
  {
   "cell_type": "code",
   "execution_count": 1,
   "metadata": {},
   "outputs": [
    {
     "data": {
      "text/plain": [
       "mappingproxy({1: 'A'})"
      ]
     },
     "execution_count": 1,
     "metadata": {},
     "output_type": "execute_result"
    }
   ],
   "source": [
    "from types import MappingProxyType\n",
    "d = {1: 'A'}\n",
    "d_proxy = MappingProxyType(d)\n",
    "d_proxy"
   ]
  },
  {
   "cell_type": "code",
   "execution_count": 9,
   "metadata": {},
   "outputs": [
    {
     "data": {
      "text/plain": [
       "'A'"
      ]
     },
     "execution_count": 9,
     "metadata": {},
     "output_type": "execute_result"
    }
   ],
   "source": [
    "d_proxy[1]"
   ]
  },
  {
   "cell_type": "code",
   "execution_count": 14,
   "metadata": {},
   "outputs": [
    {
     "ename": "TypeError",
     "evalue": "'mappingproxy' object does not support item assignment",
     "output_type": "error",
     "traceback": [
      "\u001b[0;31m---------------------------------------------------------------------------\u001b[0m",
      "\u001b[0;31mTypeError\u001b[0m                                 Traceback (most recent call last)",
      "\u001b[0;32m<ipython-input-14-bc17a9a62754>\u001b[0m in \u001b[0;36m<module>\u001b[0;34m()\u001b[0m\n\u001b[0;32m----> 1\u001b[0;31m \u001b[0md_proxy\u001b[0m\u001b[0;34m[\u001b[0m\u001b[0;36m2\u001b[0m\u001b[0;34m]\u001b[0m \u001b[0;34m=\u001b[0m \u001b[0;34m'x'\u001b[0m\u001b[0;34m\u001b[0m\u001b[0m\n\u001b[0m",
      "\u001b[0;31mTypeError\u001b[0m: 'mappingproxy' object does not support item assignment"
     ]
    }
   ],
   "source": [
    "d_proxy[2] = 'x'"
   ]
  },
  {
   "cell_type": "code",
   "execution_count": 15,
   "metadata": {},
   "outputs": [],
   "source": [
    "d[2] = 'B'"
   ]
  },
  {
   "cell_type": "code",
   "execution_count": 16,
   "metadata": {},
   "outputs": [
    {
     "data": {
      "text/plain": [
       "mappingproxy({1: 'A', 2: 'B'})"
      ]
     },
     "execution_count": 16,
     "metadata": {},
     "output_type": "execute_result"
    }
   ],
   "source": [
    "d_proxy"
   ]
  },
  {
   "cell_type": "code",
   "execution_count": 17,
   "metadata": {},
   "outputs": [
    {
     "data": {
      "text/plain": [
       "'B'"
      ]
     },
     "execution_count": 17,
     "metadata": {},
     "output_type": "execute_result"
    }
   ],
   "source": [
    "d_proxy[2]"
   ]
  },
  {
   "cell_type": "markdown",
   "metadata": {},
   "source": [
    "## 3.8 セット"
   ]
  },
  {
   "cell_type": "code",
   "execution_count": 28,
   "metadata": {},
   "outputs": [
    {
     "data": {
      "text/plain": [
       "{'eggs', 'spam'}"
      ]
     },
     "execution_count": 28,
     "metadata": {},
     "output_type": "execute_result"
    }
   ],
   "source": [
    "l = ['spam', 'spam', 'eggs', 'spam']\n",
    "set(l)"
   ]
  },
  {
   "cell_type": "code",
   "execution_count": 27,
   "metadata": {},
   "outputs": [
    {
     "data": {
      "text/plain": [
       "set"
      ]
     },
     "execution_count": 27,
     "metadata": {},
     "output_type": "execute_result"
    }
   ],
   "source": [
    "type(set(l))"
   ]
  },
  {
   "cell_type": "code",
   "execution_count": 31,
   "metadata": {},
   "outputs": [
    {
     "data": {
      "text/plain": [
       "list"
      ]
     },
     "execution_count": 31,
     "metadata": {},
     "output_type": "execute_result"
    }
   ],
   "source": [
    "type(list(set(l)))"
   ]
  },
  {
   "cell_type": "code",
   "execution_count": 33,
   "metadata": {},
   "outputs": [
    {
     "data": {
      "text/plain": [
       "list"
      ]
     },
     "execution_count": 33,
     "metadata": {},
     "output_type": "execute_result"
    }
   ],
   "source": [
    "type(list(set(l)))"
   ]
  },
  {
   "cell_type": "code",
   "execution_count": 56,
   "metadata": {},
   "outputs": [
    {
     "name": "stdout",
     "output_type": "stream",
     "text": [
      "3\n"
     ]
    }
   ],
   "source": [
    "spam = set(['needle1','needle2','needle3'])\n",
    "ham = set(['needle1','needle2','needle3'])\n",
    "found = spam & ham\n",
    "print(len(found))"
   ]
  },
  {
   "cell_type": "markdown",
   "metadata": {},
   "source": [
    "### 3.8.1 リテラル"
   ]
  },
  {
   "cell_type": "code",
   "execution_count": 68,
   "metadata": {},
   "outputs": [
    {
     "data": {
      "text/plain": [
       "set"
      ]
     },
     "execution_count": 68,
     "metadata": {},
     "output_type": "execute_result"
    }
   ],
   "source": [
    "s = {1}\n",
    "type(s)"
   ]
  },
  {
   "cell_type": "code",
   "execution_count": 69,
   "metadata": {},
   "outputs": [
    {
     "data": {
      "text/plain": [
       "{1}"
      ]
     },
     "execution_count": 69,
     "metadata": {},
     "output_type": "execute_result"
    }
   ],
   "source": [
    "s"
   ]
  },
  {
   "cell_type": "code",
   "execution_count": 70,
   "metadata": {},
   "outputs": [
    {
     "data": {
      "text/plain": [
       "1"
      ]
     },
     "execution_count": 70,
     "metadata": {},
     "output_type": "execute_result"
    }
   ],
   "source": [
    "s.pop()"
   ]
  },
  {
   "cell_type": "code",
   "execution_count": 71,
   "metadata": {},
   "outputs": [
    {
     "data": {
      "text/plain": [
       "set()"
      ]
     },
     "execution_count": 71,
     "metadata": {},
     "output_type": "execute_result"
    }
   ],
   "source": [
    "s"
   ]
  },
  {
   "cell_type": "code",
   "execution_count": 72,
   "metadata": {},
   "outputs": [
    {
     "data": {
      "text/plain": [
       "frozenset({0, 1, 2, 3, 4, 5, 6, 7, 8, 9})"
      ]
     },
     "execution_count": 72,
     "metadata": {},
     "output_type": "execute_result"
    }
   ],
   "source": [
    "frozenset(range(10))"
   ]
  },
  {
   "cell_type": "code",
   "execution_count": 78,
   "metadata": {},
   "outputs": [
    {
     "data": {
      "text/plain": [
       "{'#',\n",
       " '$',\n",
       " '%',\n",
       " '+',\n",
       " '<',\n",
       " '=',\n",
       " '>',\n",
       " '¢',\n",
       " '£',\n",
       " '¤',\n",
       " '¥',\n",
       " '§',\n",
       " '©',\n",
       " '¬',\n",
       " '®',\n",
       " '°',\n",
       " '±',\n",
       " 'µ',\n",
       " '¶',\n",
       " '×',\n",
       " '÷'}"
      ]
     },
     "execution_count": 78,
     "metadata": {},
     "output_type": "execute_result"
    }
   ],
   "source": [
    "from unicodedata import name\n",
    "{chr(i) for i in range(32, 256) if 'SIGN' in name(chr(i), '')}"
   ]
  },
  {
   "cell_type": "code",
   "execution_count": 83,
   "metadata": {},
   "outputs": [
    {
     "data": {
      "text/plain": [
       "{'',\n",
       " 'ACUTE ACCENT',\n",
       " 'AMPERSAND',\n",
       " 'APOSTROPHE',\n",
       " 'ASTERISK',\n",
       " 'BROKEN BAR',\n",
       " 'CEDILLA',\n",
       " 'CENT SIGN',\n",
       " 'CIRCUMFLEX ACCENT',\n",
       " 'COLON',\n",
       " 'COMMA',\n",
       " 'COMMERCIAL AT',\n",
       " 'COPYRIGHT SIGN',\n",
       " 'CURRENCY SIGN',\n",
       " 'DEGREE SIGN',\n",
       " 'DIAERESIS',\n",
       " 'DIGIT EIGHT',\n",
       " 'DIGIT FIVE',\n",
       " 'DIGIT FOUR',\n",
       " 'DIGIT NINE',\n",
       " 'DIGIT ONE',\n",
       " 'DIGIT SEVEN',\n",
       " 'DIGIT SIX',\n",
       " 'DIGIT THREE',\n",
       " 'DIGIT TWO',\n",
       " 'DIGIT ZERO',\n",
       " 'DIVISION SIGN',\n",
       " 'DOLLAR SIGN',\n",
       " 'EQUALS SIGN',\n",
       " 'EXCLAMATION MARK',\n",
       " 'FEMININE ORDINAL INDICATOR',\n",
       " 'FULL STOP',\n",
       " 'GRAVE ACCENT',\n",
       " 'GREATER-THAN SIGN',\n",
       " 'HYPHEN-MINUS',\n",
       " 'INVERTED EXCLAMATION MARK',\n",
       " 'INVERTED QUESTION MARK',\n",
       " 'LATIN CAPITAL LETTER A',\n",
       " 'LATIN CAPITAL LETTER A WITH ACUTE',\n",
       " 'LATIN CAPITAL LETTER A WITH CIRCUMFLEX',\n",
       " 'LATIN CAPITAL LETTER A WITH DIAERESIS',\n",
       " 'LATIN CAPITAL LETTER A WITH GRAVE',\n",
       " 'LATIN CAPITAL LETTER A WITH RING ABOVE',\n",
       " 'LATIN CAPITAL LETTER A WITH TILDE',\n",
       " 'LATIN CAPITAL LETTER AE',\n",
       " 'LATIN CAPITAL LETTER B',\n",
       " 'LATIN CAPITAL LETTER C',\n",
       " 'LATIN CAPITAL LETTER C WITH CEDILLA',\n",
       " 'LATIN CAPITAL LETTER D',\n",
       " 'LATIN CAPITAL LETTER E',\n",
       " 'LATIN CAPITAL LETTER E WITH ACUTE',\n",
       " 'LATIN CAPITAL LETTER E WITH CIRCUMFLEX',\n",
       " 'LATIN CAPITAL LETTER E WITH DIAERESIS',\n",
       " 'LATIN CAPITAL LETTER E WITH GRAVE',\n",
       " 'LATIN CAPITAL LETTER ETH',\n",
       " 'LATIN CAPITAL LETTER F',\n",
       " 'LATIN CAPITAL LETTER G',\n",
       " 'LATIN CAPITAL LETTER H',\n",
       " 'LATIN CAPITAL LETTER I',\n",
       " 'LATIN CAPITAL LETTER I WITH ACUTE',\n",
       " 'LATIN CAPITAL LETTER I WITH CIRCUMFLEX',\n",
       " 'LATIN CAPITAL LETTER I WITH DIAERESIS',\n",
       " 'LATIN CAPITAL LETTER I WITH GRAVE',\n",
       " 'LATIN CAPITAL LETTER J',\n",
       " 'LATIN CAPITAL LETTER K',\n",
       " 'LATIN CAPITAL LETTER L',\n",
       " 'LATIN CAPITAL LETTER M',\n",
       " 'LATIN CAPITAL LETTER N',\n",
       " 'LATIN CAPITAL LETTER N WITH TILDE',\n",
       " 'LATIN CAPITAL LETTER O',\n",
       " 'LATIN CAPITAL LETTER O WITH ACUTE',\n",
       " 'LATIN CAPITAL LETTER O WITH CIRCUMFLEX',\n",
       " 'LATIN CAPITAL LETTER O WITH DIAERESIS',\n",
       " 'LATIN CAPITAL LETTER O WITH GRAVE',\n",
       " 'LATIN CAPITAL LETTER O WITH STROKE',\n",
       " 'LATIN CAPITAL LETTER O WITH TILDE',\n",
       " 'LATIN CAPITAL LETTER P',\n",
       " 'LATIN CAPITAL LETTER Q',\n",
       " 'LATIN CAPITAL LETTER R',\n",
       " 'LATIN CAPITAL LETTER S',\n",
       " 'LATIN CAPITAL LETTER T',\n",
       " 'LATIN CAPITAL LETTER THORN',\n",
       " 'LATIN CAPITAL LETTER U',\n",
       " 'LATIN CAPITAL LETTER U WITH ACUTE',\n",
       " 'LATIN CAPITAL LETTER U WITH CIRCUMFLEX',\n",
       " 'LATIN CAPITAL LETTER U WITH DIAERESIS',\n",
       " 'LATIN CAPITAL LETTER U WITH GRAVE',\n",
       " 'LATIN CAPITAL LETTER V',\n",
       " 'LATIN CAPITAL LETTER W',\n",
       " 'LATIN CAPITAL LETTER X',\n",
       " 'LATIN CAPITAL LETTER Y',\n",
       " 'LATIN CAPITAL LETTER Y WITH ACUTE',\n",
       " 'LATIN CAPITAL LETTER Z',\n",
       " 'LATIN SMALL LETTER A',\n",
       " 'LATIN SMALL LETTER A WITH ACUTE',\n",
       " 'LATIN SMALL LETTER A WITH CIRCUMFLEX',\n",
       " 'LATIN SMALL LETTER A WITH DIAERESIS',\n",
       " 'LATIN SMALL LETTER A WITH GRAVE',\n",
       " 'LATIN SMALL LETTER A WITH RING ABOVE',\n",
       " 'LATIN SMALL LETTER A WITH TILDE',\n",
       " 'LATIN SMALL LETTER AE',\n",
       " 'LATIN SMALL LETTER B',\n",
       " 'LATIN SMALL LETTER C',\n",
       " 'LATIN SMALL LETTER C WITH CEDILLA',\n",
       " 'LATIN SMALL LETTER D',\n",
       " 'LATIN SMALL LETTER E',\n",
       " 'LATIN SMALL LETTER E WITH ACUTE',\n",
       " 'LATIN SMALL LETTER E WITH CIRCUMFLEX',\n",
       " 'LATIN SMALL LETTER E WITH DIAERESIS',\n",
       " 'LATIN SMALL LETTER E WITH GRAVE',\n",
       " 'LATIN SMALL LETTER ETH',\n",
       " 'LATIN SMALL LETTER F',\n",
       " 'LATIN SMALL LETTER G',\n",
       " 'LATIN SMALL LETTER H',\n",
       " 'LATIN SMALL LETTER I',\n",
       " 'LATIN SMALL LETTER I WITH ACUTE',\n",
       " 'LATIN SMALL LETTER I WITH CIRCUMFLEX',\n",
       " 'LATIN SMALL LETTER I WITH DIAERESIS',\n",
       " 'LATIN SMALL LETTER I WITH GRAVE',\n",
       " 'LATIN SMALL LETTER J',\n",
       " 'LATIN SMALL LETTER K',\n",
       " 'LATIN SMALL LETTER L',\n",
       " 'LATIN SMALL LETTER M',\n",
       " 'LATIN SMALL LETTER N',\n",
       " 'LATIN SMALL LETTER N WITH TILDE',\n",
       " 'LATIN SMALL LETTER O',\n",
       " 'LATIN SMALL LETTER O WITH ACUTE',\n",
       " 'LATIN SMALL LETTER O WITH CIRCUMFLEX',\n",
       " 'LATIN SMALL LETTER O WITH DIAERESIS',\n",
       " 'LATIN SMALL LETTER O WITH GRAVE',\n",
       " 'LATIN SMALL LETTER O WITH STROKE',\n",
       " 'LATIN SMALL LETTER O WITH TILDE',\n",
       " 'LATIN SMALL LETTER P',\n",
       " 'LATIN SMALL LETTER Q',\n",
       " 'LATIN SMALL LETTER R',\n",
       " 'LATIN SMALL LETTER S',\n",
       " 'LATIN SMALL LETTER SHARP S',\n",
       " 'LATIN SMALL LETTER T',\n",
       " 'LATIN SMALL LETTER THORN',\n",
       " 'LATIN SMALL LETTER U',\n",
       " 'LATIN SMALL LETTER U WITH ACUTE',\n",
       " 'LATIN SMALL LETTER U WITH CIRCUMFLEX',\n",
       " 'LATIN SMALL LETTER U WITH DIAERESIS',\n",
       " 'LATIN SMALL LETTER U WITH GRAVE',\n",
       " 'LATIN SMALL LETTER V',\n",
       " 'LATIN SMALL LETTER W',\n",
       " 'LATIN SMALL LETTER X',\n",
       " 'LATIN SMALL LETTER Y',\n",
       " 'LATIN SMALL LETTER Y WITH ACUTE',\n",
       " 'LATIN SMALL LETTER Y WITH DIAERESIS',\n",
       " 'LATIN SMALL LETTER Z',\n",
       " 'LEFT CURLY BRACKET',\n",
       " 'LEFT PARENTHESIS',\n",
       " 'LEFT SQUARE BRACKET',\n",
       " 'LEFT-POINTING DOUBLE ANGLE QUOTATION MARK',\n",
       " 'LESS-THAN SIGN',\n",
       " 'LOW LINE',\n",
       " 'MACRON',\n",
       " 'MASCULINE ORDINAL INDICATOR',\n",
       " 'MICRO SIGN',\n",
       " 'MIDDLE DOT',\n",
       " 'MULTIPLICATION SIGN',\n",
       " 'NO-BREAK SPACE',\n",
       " 'NOT SIGN',\n",
       " 'NUMBER SIGN',\n",
       " 'PERCENT SIGN',\n",
       " 'PILCROW SIGN',\n",
       " 'PLUS SIGN',\n",
       " 'PLUS-MINUS SIGN',\n",
       " 'POUND SIGN',\n",
       " 'QUESTION MARK',\n",
       " 'QUOTATION MARK',\n",
       " 'REGISTERED SIGN',\n",
       " 'REVERSE SOLIDUS',\n",
       " 'RIGHT CURLY BRACKET',\n",
       " 'RIGHT PARENTHESIS',\n",
       " 'RIGHT SQUARE BRACKET',\n",
       " 'RIGHT-POINTING DOUBLE ANGLE QUOTATION MARK',\n",
       " 'SECTION SIGN',\n",
       " 'SEMICOLON',\n",
       " 'SOFT HYPHEN',\n",
       " 'SOLIDUS',\n",
       " 'SPACE',\n",
       " 'SUPERSCRIPT ONE',\n",
       " 'SUPERSCRIPT THREE',\n",
       " 'SUPERSCRIPT TWO',\n",
       " 'TILDE',\n",
       " 'VERTICAL LINE',\n",
       " 'VULGAR FRACTION ONE HALF',\n",
       " 'VULGAR FRACTION ONE QUARTER',\n",
       " 'VULGAR FRACTION THREE QUARTERS',\n",
       " 'YEN SIGN'}"
      ]
     },
     "execution_count": 83,
     "metadata": {},
     "output_type": "execute_result"
    }
   ],
   "source": [
    "{name(chr(i),'') for i in range(32, 256) }"
   ]
  },
  {
   "cell_type": "markdown",
   "metadata": {},
   "source": [
    "### 3.8.3 セットの演算"
   ]
  },
  {
   "cell_type": "markdown",
   "metadata": {},
   "source": [
    "## 3.9 dictとsetの内部構造"
   ]
  },
  {
   "cell_type": "markdown",
   "metadata": {},
   "source": [
    "### 3.9.1 性能評価"
   ]
  },
  {
   "cell_type": "code",
   "execution_count": null,
   "metadata": {},
   "outputs": [],
   "source": [
    "# 100万個の配列をカウントする。実験\n",
    "found = 0\n",
    "for n in needles:\n",
    "    if n in haystack:\n",
    "        found += 1\n"
   ]
  },
  {
   "cell_type": "markdown",
   "metadata": {},
   "source": [
    "### 3.9.3 dictの構造に起因する実用上の影響"
   ]
  },
  {
   "cell_type": "code",
   "execution_count": 89,
   "metadata": {},
   "outputs": [],
   "source": [
    "DIAL_CODES = [\n",
    "    (86, 'China'),\n",
    "    (91, 'India'),\n",
    "    (1, 'United States'),\n",
    "    (55, 'Indonesia'),\n",
    "    (92, 'Brazil'),\n",
    "    (880, 'Pakistan'),\n",
    "    (234, 'Bangladesh'),\n",
    "    (7, 'Nigeria'),\n",
    "    (81, 'Japan'),  \n",
    "]"
   ]
  },
  {
   "cell_type": "code",
   "execution_count": 98,
   "metadata": {},
   "outputs": [
    {
     "name": "stdout",
     "output_type": "stream",
     "text": [
      "{86: 'China', 91: 'India', 1: 'United States', 55: 'Indonesia', 92: 'Brazil', 880: 'Pakistan', 234: 'Bangladesh', 7: 'Nigeria', 81: 'Japan'}\n"
     ]
    }
   ],
   "source": [
    "d1 = dict(DIAL_CODES)\n",
    "print(d1)"
   ]
  },
  {
   "cell_type": "code",
   "execution_count": 99,
   "metadata": {},
   "outputs": [],
   "source": [
    "d2 = dict(sorted(DIAL_CODES))"
   ]
  },
  {
   "cell_type": "code",
   "execution_count": 100,
   "metadata": {
    "scrolled": true
   },
   "outputs": [
    {
     "name": "stdout",
     "output_type": "stream",
     "text": [
      "{234: 'Bangladesh', 92: 'Brazil', 86: 'China', 91: 'India', 55: 'Indonesia', 81: 'Japan', 7: 'Nigeria', 880: 'Pakistan', 1: 'United States'}\n"
     ]
    }
   ],
   "source": [
    "d3 = dict(sorted(DIAL_CODES, key=lambda x:x[1]))\n",
    "print(d3)"
   ]
  },
  {
   "cell_type": "code",
   "execution_count": 101,
   "metadata": {},
   "outputs": [
    {
     "name": "stdout",
     "output_type": "stream",
     "text": [
      "d3: dict_keys([234, 92, 86, 91, 55, 81, 7, 880, 1])\n"
     ]
    }
   ],
   "source": [
    "print('d3:', d3.keys())"
   ]
  },
  {
   "cell_type": "code",
   "execution_count": 110,
   "metadata": {},
   "outputs": [],
   "source": [
    "assert d1 == d2 and d2 == d3"
   ]
  },
  {
   "cell_type": "code",
   "execution_count": null,
   "metadata": {},
   "outputs": [],
   "source": []
  }
 ],
 "metadata": {
  "kernelspec": {
   "display_name": "Python 3",
   "language": "python",
   "name": "python3"
  },
  "language_info": {
   "codemirror_mode": {
    "name": "ipython",
    "version": 3
   },
   "file_extension": ".py",
   "mimetype": "text/x-python",
   "name": "python",
   "nbconvert_exporter": "python",
   "pygments_lexer": "ipython3",
   "version": "3.6.1"
  }
 },
 "nbformat": 4,
 "nbformat_minor": 2
}
