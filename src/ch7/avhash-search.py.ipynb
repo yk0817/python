{
 "cells": [
  {
   "cell_type": "code",
   "execution_count": null,
   "metadata": {
    "collapsed": true
   },
   "outputs": [],
   "source": [
    "from PIL import Image\n",
    "import numpy as np\n",
    "import os,re\n",
    "\n",
    "# ファイルパス\n",
    "search_dir = \"./image/101_ObjectCategories/\"\n",
    "cache_dir = \"./image/chache_avhash\"\n",
    "\n",
    "if not os.path.exists(cache_dir):\n",
    "    os.mkdir(cache_dir)\n",
    "#     画像データをAverage hashに変換\n",
    "\n",
    "def  average_hash(fname, size = 16):\n",
    "    fname2 = fname[len(search_dir):]\n",
    "    cache_file = cache_dir + \"/\" + fname2.replace('/', '_') + \".csv\"\n",
    "    if  not  os.path.exists(cache_file): #ハッシュを作成\n",
    "        img = Image.open(fname)\n",
    "        img = img.convert('L').resize((size,size), Image.ANTIALIAS)\n",
    "        pixels = np.array(img.getdata()).reshape((size,size))\n",
    "        avg = pixels.mean()\n",
    "        px = 1 * (pixels > avg)\n",
    "        np.savetxt(cache_file, px, fmt= \"%.0f\",delmiter=\",\")\n",
    "    else:\n",
    "        px = np.loadtxt(cache_file, delimiter=\",\")\n",
    "    return px\n",
    "        \n",
    "# ハミング距離をもとめる\n",
    "\n",
    "def hamming_dist(a, b):\n",
    "    aa = a.reshape(1, -1)\n",
    "    ab = b.reshape(1, -1)\n",
    "    dist = (aa != ab).sum()\n",
    "    return dist\n",
    "\n",
    "def  enum_all_files(path):\n",
    "    for root, dirs, files in os.walk(path):\n",
    "        for f in files:\n",
    "            \n",
    "    \n",
    "\n"
   ]
  }
 ],
 "metadata": {
  "kernelspec": {
   "display_name": "Python 3",
   "language": "python",
   "name": "python3"
  },
  "language_info": {
   "codemirror_mode": {
    "name": "ipython",
    "version": 3
   },
   "file_extension": ".py",
   "mimetype": "text/x-python",
   "name": "python",
   "nbconvert_exporter": "python",
   "pygments_lexer": "ipython3",
   "version": "3.5.3"
  }
 },
 "nbformat": 4,
 "nbformat_minor": 0
}
