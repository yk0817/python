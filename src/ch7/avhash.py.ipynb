{
 "cells": [
  {
   "cell_type": "code",
   "execution_count": 5,
   "metadata": {
    "collapsed": false
   },
   "outputs": [
    {
     "name": "stdout",
     "output_type": "stream",
     "text": [
      "[[1 1 1 1 1 1 1 1 1 1 1 1 1 1 1 0]\n",
      " [1 1 1 1 1 1 1 1 1 1 1 1 1 1 1 1]\n",
      " [1 1 1 1 1 1 1 1 1 1 1 1 1 1 1 1]\n",
      " [1 1 1 1 1 1 1 1 1 1 0 1 1 1 1 1]\n",
      " [1 1 1 1 1 1 1 1 1 1 0 1 1 1 1 1]\n",
      " [1 1 1 1 1 1 1 0 0 0 1 0 1 1 1 1]\n",
      " [1 1 1 1 1 1 1 0 0 0 1 0 1 1 1 1]\n",
      " [1 1 1 1 1 1 0 0 0 0 1 1 1 1 1 1]\n",
      " [1 1 1 1 1 1 0 0 0 0 0 1 1 1 1 1]\n",
      " [1 1 1 1 1 0 0 0 0 0 0 1 1 1 1 1]\n",
      " [1 1 1 1 0 0 0 0 0 0 0 0 0 1 1 1]\n",
      " [1 1 1 0 0 0 0 0 0 0 0 0 0 0 1 1]\n",
      " [1 1 0 0 0 0 0 0 0 0 0 0 0 0 0 1]\n",
      " [1 1 0 0 0 0 0 0 0 0 0 0 0 0 1 1]\n",
      " [1 1 0 0 1 0 0 0 0 0 0 0 0 1 0 1]\n",
      " [1 0 1 1 1 0 0 0 0 0 1 1 0 1 1 0]]\n",
      "fffeffffffffffdfffdffe2ffe2ffc3ffc1ff81ff007e003c001c003c805b836\n"
     ]
    }
   ],
   "source": [
    "from PIL import Image\n",
    "import numpy as np\n",
    "import sys\n",
    "\n",
    "# 画像データをAverageえ\n",
    "def  average_hash(fname, size = 16):\n",
    "    img = Image.open(fname)\n",
    "    img = img.convert('L')\n",
    "    img = img.resize((size,size), Image.ANTIALIAS)\n",
    "    pixel_data = img.getdata()\n",
    "    pixels = np.array(pixel_data)\n",
    "    pixels = pixels.reshape((size,size))\n",
    "    avg = pixels.mean()\n",
    "    diff = 1 * (pixels > avg)\n",
    "    return diff\n",
    "\n",
    "def  np2hash(n):\n",
    "    bhash = []\n",
    "    for nl in ahash.tolist():\n",
    "        s1 = [str(i)  for i  in nl]\n",
    "        s2 = \"\".join(s1)\n",
    "        i = int(s2, 2)\n",
    "        bhash.append(\"%04x\" % i)\n",
    "    return \"\".join(bhash)\n",
    "\n",
    "ahash = average_hash('tower.jpg')\n",
    "print(ahash)\n",
    "print(np2hash(ahash))\n"
   ]
  },
  {
   "cell_type": "code",
   "execution_count": null,
   "metadata": {
    "collapsed": true
   },
   "outputs": [],
   "source": []
  },
  {
   "cell_type": "code",
   "execution_count": null,
   "metadata": {
    "collapsed": true
   },
   "outputs": [],
   "source": []
  }
 ],
 "metadata": {
  "kernelspec": {
   "display_name": "Python 3",
   "language": "python",
   "name": "python3"
  },
  "language_info": {
   "codemirror_mode": {
    "name": "ipython",
    "version": 3
   },
   "file_extension": ".py",
   "mimetype": "text/x-python",
   "name": "python",
   "nbconvert_exporter": "python",
   "pygments_lexer": "ipython3",
   "version": "3.5.3"
  }
 },
 "nbformat": 4,
 "nbformat_minor": 0
}
