{
 "cells": [
  {
   "cell_type": "code",
   "execution_count": 11,
   "metadata": {
    "collapsed": false
   },
   "outputs": [
    {
     "name": "stdout",
     "output_type": "stream",
     "text": [
      "390\n"
     ]
    }
   ],
   "source": [
    "import tensorflow as tf\n",
    "# 定数を定義\n",
    "a = tf.constant(120, name=\"a\")\n",
    "b = tf.constant(130, name=\"b\")\n",
    "c = tf.constant(140, name=\"c\")\n",
    "\n",
    "# 変数を定義\n",
    "v = tf.Variable(0, name=\"v\")\n",
    "calc_op = a + b  + c\n",
    "assign_op = tf.assign(v,  calc_op)\n",
    "sess = tf.Session()\n",
    "sess.run(assign_op)\n",
    "\n",
    "print( sess.run(v) )"
   ]
  },
  {
   "cell_type": "code",
   "execution_count": null,
   "metadata": {
    "collapsed": true
   },
   "outputs": [],
   "source": []
  }
 ],
 "metadata": {
  "kernelspec": {
   "display_name": "Python 3",
   "language": "python",
   "name": "python3"
  },
  "language_info": {
   "codemirror_mode": {
    "name": "ipython",
    "version": 3
   },
   "file_extension": ".py",
   "mimetype": "text/x-python",
   "name": "python",
   "nbconvert_exporter": "python",
   "pygments_lexer": "ipython3",
   "version": "3.5.3"
  }
 },
 "nbformat": 4,
 "nbformat_minor": 0
}
