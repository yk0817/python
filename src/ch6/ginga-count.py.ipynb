{
 "cells": [
  {
   "cell_type": "code",
   "execution_count": 3,
   "metadata": {
    "collapsed": false,
    "scrolled": true
   },
   "outputs": [
    {
     "name": "stdout",
     "output_type": "stream",
     "text": [
      "よう209) の206) ジョバンニ190) 人102) カムパネルラ101) ん101) 方66) 中65) ぼく59) それ58) たち56) みんな54) 二53) 一47) 何46) 鳥45) ほんとう45) どこ43) こと39) 窓39) 汽車39) いま38) そう38) 前38) 眼37) 川35) とき35) 僕33) もの32) たくさん30) お29) ら29) 水29) 青年28) さっき27) こっち27) 銀河27) そこ26) 上26) ろ26) 風26) 女の子25) 星25) 顔25) 向う25) 野原24) 天の川23) お父さん23) 声22) あかり21) "
     ]
    }
   ],
   "source": [
    "from janome.tokenizer import Tokenizer\n",
    "import zipfile\n",
    "import os.path, urllib.request as req\n",
    "import sys\n",
    "\n",
    "url = \"http://www.aozora.gr.jp/cards/000081/files/456_ruby_145.zip\"\n",
    "local = \"456_ruby_145.zip\"\n",
    "if  not  os.path.exists(local):\n",
    "    print(\"zipファイルをダウンロード\")\n",
    "    req.urlretrieve(url,local)\n",
    "#     zipファイルのテキストファイルを読む\n",
    "\n",
    "zf = zipfile.ZipFile(local,'r')\n",
    "fp = zf.open('gingatetsudono_yoru.txt','r')\n",
    "bindata = fp.read()\n",
    "txt = bindata.decode('shift_jis')\n",
    "\n",
    "t = Tokenizer()\n",
    "\n",
    "word_dic  = {}\n",
    "lines = txt.split(\"\\r\\n\")\n",
    "\n",
    "for line in lines:\n",
    "    malist = t.tokenize(line)\n",
    "    for w in malist:\n",
    "        word = w.surface\n",
    "#         print(word)\n",
    "        ps = w.part_of_speech\n",
    "        if ps.find('名詞') < 0: continue\n",
    "        if not word in word_dic:\n",
    "            word_dic[word] = 0\n",
    "#             print(word)\n",
    "        word_dic[word]  += 1\n",
    "        \n",
    "keys = sorted(word_dic.items(), key=lambda x:x[1], reverse=True)\n",
    "for word,cnt in keys[:50]:\n",
    "    print(\"{0}{1}) \".format(word,cnt), end=\"\")\n",
    "    \n"
   ]
  },
  {
   "cell_type": "code",
   "execution_count": null,
   "metadata": {
    "collapsed": true
   },
   "outputs": [],
   "source": []
  }
 ],
 "metadata": {
  "kernelspec": {
   "display_name": "Python 3",
   "language": "python",
   "name": "python3"
  },
  "language_info": {
   "codemirror_mode": {
    "name": "ipython",
    "version": 3
   },
   "file_extension": ".py",
   "mimetype": "text/x-python",
   "name": "python",
   "nbconvert_exporter": "python",
   "pygments_lexer": "ipython3",
   "version": "3.5.3"
  }
 },
 "nbformat": 4,
 "nbformat_minor": 0
}
