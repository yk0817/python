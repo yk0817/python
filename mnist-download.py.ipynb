{
 "cells": [
  {
   "cell_type": "code",
   "execution_count": 2,
   "metadata": {
    "collapsed": false
   },
   "outputs": [],
   "source": [
    "import urllib.request as req\n",
    "import gzip, os , os.path\n"
   ]
  },
  {
   "cell_type": "code",
   "execution_count": 3,
   "metadata": {
    "collapsed": false
   },
   "outputs": [
    {
     "name": "stdout",
     "output_type": "stream",
     "text": [
      "dowload: http://yann.lecun.com/exdb/mnist/train-images-idx3-ubyte.gz\n",
      "dowload: http://yann.lecun.com/exdb/mnist/train-labels-idx1-ubyte.gz\n",
      "dowload: http://yann.lecun.com/exdb/mnist/t10k-images-idx3-ubyte.gz\n",
      "dowload: http://yann.lecun.com/exdb/mnist/t10k-labels-idx1-ubyte.gz\n",
      "gzip: train-images-idx3-ubyte.gz\n",
      "gzip: train-labels-idx1-ubyte.gz\n",
      "gzip: t10k-images-idx3-ubyte.gz\n",
      "gzip: t10k-labels-idx1-ubyte.gz\n",
      "ok\n"
     ]
    }
   ],
   "source": [
    "savepath = \"./mnist\"\n",
    "baseurl = \"http://yann.lecun.com/exdb/mnist\"\n",
    "files = [\"train-images-idx3-ubyte.gz\",\"train-labels-idx1-ubyte.gz\",\"t10k-images-idx3-ubyte.gz\",\"t10k-labels-idx1-ubyte.gz\"]\n",
    "# ダウンロード\n",
    "if  not os.path.exists(savepath):  os.mkdir(savepath)\n",
    "for  f in files:\n",
    "    url = baseurl + \"/\" + f\n",
    "    loc = savepath + \"/\" + f\n",
    "    print(\"dowload:\",url)\n",
    "    if  not  os.path.exists(loc):\n",
    "        req.urlretrieve(url,loc)\n",
    "# Gzip解凍\n",
    "for  f  in  files:\n",
    "    gz_file  =  savepath  +  \"/\"  +  f\n",
    "    raw_file =  savepath + \"/\"  + f  + f.replace(\".gz\",\"\")\n",
    "    print(\"gzip:\",f)\n",
    "    with  gzip.open(gz_file, \"rb\")  as  fp:\n",
    "        body = fp.read()\n",
    "        with  open(raw_file, \"wb\") as w:\n",
    "            w.write(body)\n",
    "print(\"ok\")\n",
    "    \n"
   ]
  },
  {
   "cell_type": "code",
   "execution_count": null,
   "metadata": {
    "collapsed": true
   },
   "outputs": [],
   "source": []
  },
  {
   "cell_type": "code",
   "execution_count": null,
   "metadata": {
    "collapsed": true
   },
   "outputs": [],
   "source": []
  },
  {
   "cell_type": "code",
   "execution_count": null,
   "metadata": {
    "collapsed": true
   },
   "outputs": [],
   "source": []
  },
  {
   "cell_type": "code",
   "execution_count": null,
   "metadata": {
    "collapsed": true
   },
   "outputs": [],
   "source": []
  },
  {
   "cell_type": "code",
   "execution_count": null,
   "metadata": {
    "collapsed": true
   },
   "outputs": [],
   "source": []
  }
 ],
 "metadata": {
  "kernelspec": {
   "display_name": "Python 3",
   "language": "python",
   "name": "python3"
  },
  "language_info": {
   "codemirror_mode": {
    "name": "ipython",
    "version": 3
   },
   "file_extension": ".py",
   "mimetype": "text/x-python",
   "name": "python",
   "nbconvert_exporter": "python",
   "pygments_lexer": "ipython3",
   "version": "3.5.3"
  }
 },
 "nbformat": 4,
 "nbformat_minor": 0
}
