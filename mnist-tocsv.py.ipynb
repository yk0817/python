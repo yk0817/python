{
 "cells": [
  {
   "cell_type": "code",
   "execution_count": 1,
   "metadata": {
    "collapsed": true
   },
   "outputs": [],
   "source": [
    "import struct"
   ]
  },
  {
   "cell_type": "code",
   "execution_count": 12,
   "metadata": {
    "collapsed": false
   },
   "outputs": [],
   "source": [
    "def  to_csv(nme, mxdt):\n",
    "# ラベルファイルとイメージファイルを開く\n",
    "    lbl_f = open(\"./mnist\" + name + \"-labels-idx1-ubyte\",\"rb\")\n",
    "    img_f = open(\"./mnist\" + name + \"-images-idx3-byte\",\"rb\")\n",
    "    csv_f = open(\"./mnist\" + name + \".csv\",\"w\", encoding=\"utf-8\")\n",
    "#     ヘッダー情報を読む\n",
    "    mag, lbl_count = struct.unpack(\">II\", lbl_f.read(8))\n",
    "    mag, img_count = struct.unpack(\">II\",img_f.read(8))\n",
    "    rows, cols = struct.unpack(\">II\", img_f.read(8))\n",
    "    pixels = rows * cols"
   ]
  },
  {
   "cell_type": "code",
   "execution_count": null,
   "metadata": {
    "collapsed": true
   },
   "outputs": [],
   "source": [
    "#     画像データを読んでCSVで保存\n",
    "res = []\n",
    "for  idx  in  range(lbl_count):\n",
    "    if  idx  >  maxdata:\n",
    "        break\n",
    "    label = struct.unpack(\"B\", lbl_f.read(1))[0]\n",
    "    \n"
   ]
  },
  {
   "cell_type": "code",
   "execution_count": null,
   "metadata": {
    "collapsed": true
   },
   "outputs": [],
   "source": []
  }
 ],
 "metadata": {
  "kernelspec": {
   "display_name": "Python 3",
   "language": "python",
   "name": "python3"
  },
  "language_info": {
   "codemirror_mode": {
    "name": "ipython",
    "version": 3
   },
   "file_extension": ".py",
   "mimetype": "text/x-python",
   "name": "python",
   "nbconvert_exporter": "python",
   "pygments_lexer": "ipython3",
   "version": "3.5.3"
  }
 },
 "nbformat": 4,
 "nbformat_minor": 0
}
